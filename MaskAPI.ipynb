{
  "nbformat": 4,
  "nbformat_minor": 0,
  "metadata": {
    "colab": {
      "provenance": [],
      "authorship_tag": "ABX9TyOwFMIDf1gyLtP+nlupPjfJ",
      "include_colab_link": true
    },
    "kernelspec": {
      "name": "python3",
      "display_name": "Python 3"
    },
    "language_info": {
      "name": "python"
    }
  },
  "cells": [
    {
      "cell_type": "markdown",
      "metadata": {
        "id": "view-in-github",
        "colab_type": "text"
      },
      "source": [
        "<a href=\"https://colab.research.google.com/github/Yi-Chen-Wang/hello-colab/blob/main/MaskAPI.ipynb\" target=\"_parent\"><img src=\"https://colab.research.google.com/assets/colab-badge.svg\" alt=\"Open In Colab\"/></a>"
      ]
    },
    {
      "cell_type": "code",
      "execution_count": 1,
      "metadata": {
        "colab": {
          "base_uri": "https://localhost:8080/"
        },
        "id": "3r2MR01evbfW",
        "outputId": "43dbb1cf-067c-441b-fd48-386887e54264"
      },
      "outputs": [
        {
          "output_type": "stream",
          "name": "stdout",
          "text": [
            "各縣市藥局數量{'臺北市': 338, '': 48, '高雄市': 421, '臺中市': 419, '臺南市': 270, '基隆市': 56, '新竹市': 38, '嘉義市': 66, '新北市': 500, '桃園市': 263, '新竹縣': 45, '宜蘭縣': 75, '苗栗縣': 55, '彰化縣': 178, '南投縣': 66, '雲林縣': 128, '嘉義縣': 83, '屏東縣': 139, '澎湖縣': 10, '花蓮縣': 45, '臺東縣': 22, '金門縣': 5, '連江縣': 0}\n",
            "各縣市口罩數量由大到小排列{'臺北市': 322490, '': 68040, '高雄市': 424170, '臺中市': 535430, '臺南市': 392430, '基隆市': 79840, '新竹市': 45630, '嘉義市': 105870, '新北市': 670150, '桃園市': 330010, '新竹縣': 51280, '宜蘭縣': 105830, '苗栗縣': 119500, '彰化縣': 218090, '南投縣': 81680, '雲林縣': 195540, '嘉義縣': 112190, '屏東縣': 181480, '澎湖縣': 11350, '花蓮縣': 56570, '臺東縣': 27720, '金門縣': 15510, '連江縣': 0}\n"
          ]
        }
      ],
      "source": [
        "import sqlite3\n",
        "import datetime\n",
        "import requests\n",
        "import json\n",
        "\n",
        "conn = sqlite3.connect('example.db')\n",
        "c = conn.cursor()\n",
        "\n",
        "# 新增且清空資料表\n",
        "c.execute('''CREATE TABLE IF NOT EXISTS MASKS\n",
        "             (AREA text, MASK_CNT text, CREATEAT datetime)''')\n",
        "c.execute('''DELETE FROM masks''')\n",
        "conn.commit()\n",
        "\n",
        "\n",
        "# 利用 requests 對 API 來源發送一個請求\n",
        "url='https://raw.githubusercontent.com/kiang/pharmacies/master/json/points.json'\n",
        "response = requests.get(url)\n",
        "# 將請求回應的內容存成一個字串格式\n",
        "d = response.text\n",
        "\n",
        "# 將長得像 json 格式的字串解析成字典或列表\n",
        "data = json.loads(d)\n",
        "mask_count = {}\n",
        "\n",
        "# 填入欄位名稱\n",
        "for d in data['features']:\n",
        "    conunty = d['properties']['county']\n",
        "    mask_cnt = d['properties']['mask_adult']\n",
        "    if conunty not in mask_count:\n",
        "      mask_count[conunty]=0\n",
        "    else:\n",
        "      mask_count[conunty]=mask_count[conunty]+mask_cnt\n",
        "\n",
        "for key,value in mask_count.items():\n",
        "  city=key\n",
        "  counts=value\n",
        "  t = datetime.datetime.now()\n",
        "  c.execute(f\"INSERT INTO MASKS VALUES ('{city}', {counts}, '{t}')\")\n",
        "  conn.commit()\n",
        "\n",
        "# 查詢資料\n",
        "c.execute(\"SELECT * FROM masks\")\n",
        "print(c.fetchall())\n",
        "\n",
        "conn.commit()\n",
        "conn.close()"
      ]
    }
  ]
}