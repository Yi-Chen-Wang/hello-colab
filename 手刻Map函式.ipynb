{
  "nbformat": 4,
  "nbformat_minor": 0,
  "metadata": {
    "colab": {
      "provenance": [],
      "authorship_tag": "ABX9TyPkx55odN2RRFm4yi+HjY/7",
      "include_colab_link": true
    },
    "kernelspec": {
      "name": "python3",
      "display_name": "Python 3"
    },
    "language_info": {
      "name": "python"
    }
  },
  "cells": [
    {
      "cell_type": "markdown",
      "metadata": {
        "id": "view-in-github",
        "colab_type": "text"
      },
      "source": [
        "<a href=\"https://colab.research.google.com/github/Yi-Chen-Wang/hello-colab/blob/main/%E6%89%8B%E5%88%BBMap%E5%87%BD%E5%BC%8F.ipynb\" target=\"_parent\"><img src=\"https://colab.research.google.com/assets/colab-badge.svg\" alt=\"Open In Colab\"/></a>"
      ]
    },
    {
      "cell_type": "code",
      "execution_count": 1,
      "metadata": {
        "id": "0OM2rCSpFHcN",
        "colab": {
          "base_uri": "https://localhost:8080/"
        },
        "outputId": "6a3609d8-6bc3-482d-d407-b005e4f7ec2c"
      },
      "outputs": [
        {
          "output_type": "stream",
          "name": "stdout",
          "text": [
            "[2, 3, 4, 5, 6, 7]\n",
            "[True, True, False, True, False, True]\n"
          ]
        }
      ],
      "source": [
        "def add1(n):\n",
        "  return n+1\n",
        "\n",
        "def isPrime(n):\n",
        "  return all(n % i != 0 for i in range(2, n))\n",
        "\n",
        "def f(L, F):\n",
        "  res=[]\n",
        "  for i in L:\n",
        "    res.append(F(i))\n",
        "  return res\n",
        "\n",
        "L = [1,2,3,4,5,6]\n",
        "F = add1\n",
        "print(f(L, F))\n",
        "\n",
        "L = [2,3,4,5,6,7]\n",
        "F = isPrime\n",
        "print(f(L, F))"
      ]
    }
  ]
}